{
  "nbformat": 4,
  "nbformat_minor": 0,
  "metadata": {
    "colab": {
      "provenance": [],
      "authorship_tag": "ABX9TyMPR/p+u9eNeGa1UHQwZ95f",
      "include_colab_link": true
    },
    "kernelspec": {
      "name": "python3",
      "display_name": "Python 3"
    },
    "language_info": {
      "name": "python"
    }
  },
  "cells": [
    {
      "cell_type": "markdown",
      "metadata": {
        "id": "view-in-github",
        "colab_type": "text"
      },
      "source": [
        "<a href=\"https://colab.research.google.com/github/eshithavuyyuru/eshitha-keylogger/blob/main/monofaceddetection.ipynb\" target=\"_parent\"><img src=\"https://colab.research.google.com/assets/colab-badge.svg\" alt=\"Open In Colab\"/></a>"
      ]
    },
    {
      "cell_type": "code",
      "source": [
        "#import necessary libraries\n",
        "from deepface import DeepFace\n",
        "import pandas as pd"
      ],
      "metadata": {
        "id": "Su27p-vKk2tG"
      },
      "execution_count": 21,
      "outputs": []
    },
    {
      "cell_type": "code",
      "source": [
        "#function to recognize the images\n",
        "def recognise_faces(images):\n",
        "    #path to image you want to recongnize\n",
        "   image_path=images\n",
        "\n",
        "   #path to db directory\n",
        "   db_path=\"/content/drive/MyDrive/training dataset/train1\"\n",
        "\n",
        "   #Facenet model to find the match in database\n",
        "   results=DeepFace.find(img_path=image_path,db_path=db_path,model_name=\"Facenet\",enforce_detection=False)\n",
        "\n",
        "   #print the results\n",
        "   print(results[0])\n",
        "\n",
        "   #extract identity and distance from the db\n",
        "   df=results[0][['identity','distance']]\n",
        "\n",
        "    #select the  no of records that you want\n",
        "   df=df.head(40)\n",
        "\n",
        "    #extract label from identity\n",
        "   df['label']=df['identity'].apply(lambda x:x.split('\\\\')[0])\n",
        "\n",
        "   # calculate similarity from distance\n",
        "   df['similarity']=df['distance'].apply(lambda x:1-x)\n",
        "\n",
        "   #calcute the sum\n",
        "   df_score_sum=df.groupby(by='label')['similarity'].sum()\n",
        "\n",
        "   total_scored=df['similarity'].sum()\n",
        "\n",
        "   face_score_mapping=dict()\n",
        "\n",
        "   #calculate the label percentage\n",
        "   for idx, data in enumerate(df_score_sum):\n",
        "    face_score_mapping[df_score_sum.index[idx]]=(data/total_scored)*100\n",
        "\n",
        "   return face_score_mapping\n",
        "\n",
        "print(recognise_faces(\"/content/drive/MyDrive/Testing Data/Monoface/M4.jpg\"))"
      ],
      "metadata": {
        "colab": {
          "base_uri": "https://localhost:8080/"
        },
        "id": "vyYeBP8mk7RQ",
        "outputId": "37b5b07a-73ec-421a-ddcc-6f793f8c55c4"
      },
      "execution_count": 24,
      "outputs": [
        {
          "output_type": "stream",
          "name": "stdout",
          "text": [
            "24-07-03 12:37:04 - Found 35 newly added image(s), 0 removed image(s), 0 replaced image(s).\n"
          ]
        },
        {
          "output_type": "stream",
          "name": "stderr",
          "text": [
            "Finding representations: 100%|██████████| 35/35 [00:33<00:00,  1.05it/s]\n"
          ]
        },
        {
          "output_type": "stream",
          "name": "stdout",
          "text": [
            "24-07-03 12:37:38 - There are now 36 representations in ds_model_facenet_detector_opencv_aligned_normalization_base_expand_0.pkl\n",
            "24-07-03 12:37:38 - Searching /content/drive/MyDrive/Testing Data/Monoface/M4.jpg in 36 length datastore\n",
            "24-07-03 12:37:40 - find function duration 44.594645738601685 seconds\n",
            "                                            identity  \\\n",
            "0  /content/drive/MyDrive/training dataset/train1...   \n",
            "1  /content/drive/MyDrive/training dataset/train1...   \n",
            "2  /content/drive/MyDrive/training dataset/train1...   \n",
            "3  /content/drive/MyDrive/training dataset/train1...   \n",
            "4  /content/drive/MyDrive/training dataset/train1...   \n",
            "5  /content/drive/MyDrive/training dataset/train1...   \n",
            "\n",
            "                                       hash  target_x  target_y  target_w  \\\n",
            "0  63e0879eb52d651d82433f3ef4725b49700a88ad       129        84       208   \n",
            "1  ae6822f00b8acb1850e0411dcb2b8994a30b4da7       391       299       545   \n",
            "2  47b7c9b96e4cde1f6a6c56e73ecfd419fc91a4d0       365       369       572   \n",
            "3  380f1531ac1c854ef2ada1573ff40ed8b34b3013        42       158       531   \n",
            "4  db4650fd741d61bf9c73b784760c43166cb1dff3       105        93       209   \n",
            "5  d5a8129466f2af642ad9012d56f4f572755e32f9        23       204       475   \n",
            "\n",
            "   target_h  source_x  source_y  source_w  source_h  threshold  distance  \n",
            "0       208       325       262       554       554        0.4  0.104802  \n",
            "1       545       325       262       554       554        0.4  0.106657  \n",
            "2       572       325       262       554       554        0.4  0.126597  \n",
            "3       531       325       262       554       554        0.4  0.211453  \n",
            "4       209       325       262       554       554        0.4  0.250079  \n",
            "5       475       325       262       554       554        0.4  0.269177  \n",
            "{'/content/drive/MyDrive/training dataset/train1/m/M1.jpg': 18.11600870626129, '/content/drive/MyDrive/training dataset/train1/m/M2.jpg': 18.15362029355951, '/content/drive/MyDrive/training dataset/train1/m/M3.jpg': 17.711651956297565, '/content/drive/MyDrive/training dataset/train1/m/M5.jpg': 15.990869197423555, '/content/drive/MyDrive/training dataset/train1/m/M6.jpg': 14.82028142384611, '/content/drive/MyDrive/training dataset/train1/m/M7.jpg': 15.207568422611972}\n"
          ]
        }
      ]
    }
  ]
}